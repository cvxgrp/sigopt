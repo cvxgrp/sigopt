{
 "metadata": {
  "name": ""
 },
 "nbformat": 3,
 "nbformat_minor": 0,
 "worksheets": [
  {
   "cells": [
    {
     "cell_type": "markdown",
     "metadata": {},
     "source": [
      "SIGOPT: a python package for sigmoidal programming\n",
      "==================================================\n",
      "\n",
      "SIGOPT is a python package for solving sigmoidal programming problems of the following form:\n",
      "\n",
      "$$\n",
      "\\begin{array}{ll} \n",
      "\\mbox{maximize} & \\sum_{i=1}^n f_i(x_i) \\\\ \n",
      "\\mbox{subject to} & Ax \\leq b, \\\\\n",
      "& Cx = d, \\\\\n",
      "& l \\leq x \\leq u,\n",
      "\\end{array}\n",
      "$$\n",
      "\n",
      "where $A,b,C,d,l,u$ are matrices or lists of the appropriate dimensions, and \n",
      "$f_i$, $i=1,\\ldots,k$ are *sigmoidal* functions.\n",
      "$f_i$ is *sigmoidal* if it is *convex* on the interval $[l_i,z_i]$,\n",
      "and *concave* on the interval $[z_i,u_i]$.\n",
      "\n",
      "(It's ok if $l_i=z_i$ or $z_i=u_i$,\n",
      "so $f_i$ can be just convex or just concave.)\n",
      "\n",
      "To understand how SIGOPT works, and to learn more about the theory of\n",
      "sigmoidal programming, you can take a look at \n",
      "[this paper](www.stanford.edu/~udell/doc/max_sum_sigmoids.pdf).\n",
      "\n",
      "To learn more about how to use SIGOPT, read on."
     ]
    },
    {
     "cell_type": "markdown",
     "metadata": {},
     "source": [
      "Download\n",
      "========\n",
      "\n",
      "SIGOPT is available via the [python package index](https://pypi.python.org/pypi?%3Aaction=search&term=sigopt&submit=search). You can install it using `easy_install`\n",
      "\n",
      "    $ easy_install sigopt\n",
      "\n",
      "or `pip`\n",
      "\n",
      "    $ pip install sigopt\n",
      "    \n",
      "or the old-fashioned way: download it as a [tarball](http://www.stanford.edu/~udell/sigopt/sigopt-0.1.1.tar.gz), unzip the package, and install.\n",
      "\n",
      "    $ python setup.py install\n",
      "\n",
      "Dependencies\n",
      "------------\n",
      "Before SIGOPT will work, you'll need to install the [GNU Linear Programming Kit (GLPK)](http://www.gnu.org/software/glpk/).\n",
      "Make sure to install GLPK in a standard location so that PyGLPK can find it.\n",
      "\n",
      "With the exception of GLPK, all of the dependencies are available\n",
      "via the [python package index](https://pypi.python.org), and are automatically downloaded and installed if they are not already found on the system.\n",
      "\n",
      "* PyGLPK\n",
      "* cvxopt\n",
      "* numpy\n",
      "* scipy\n",
      "* matplotlib"
     ]
    },
    {
     "cell_type": "markdown",
     "metadata": {},
     "source": [
      "Quickstart examples\n",
      "===================\n",
      "You can download this document as an [ipython notebook](www.stanford.edu/~udell/sigopt/quickstart.ipynb) to try out the examples yourself.\n",
      "\n",
      "A simple sigmoidal program\n",
      "-------------------------------------\n",
      "\n",
      "As an example to get you started, we'll show how to solve the problem \n",
      "\n",
      "$$\n",
      "\\begin{array}{ll}\n",
      "\\mbox{maximize} & \\sum_{i=1}^9 \\mathop{logistic}(x_i) \\\\\n",
      "\\mbox{subject to} & \\sum_i x_i \\leq 0, \\\\\n",
      "& -5 \\leq x \\leq 5.\n",
      "\\end{array}\n",
      "$$\n",
      "\n",
      "Each function $f_i$ is specified as a tuple consisting of the function, its derivative, and its inflection point $z_i$.\n",
      "\n",
      "The logistic function $\\mathop{logistic}(x) = 1/\\exp(-x)$ and its derivative are defined for convenience in `sigopt.functions`,\n",
      "and its inflection point is located at $z=0$."
     ]
    },
    {
     "cell_type": "code",
     "collapsed": false,
     "input": [
      "import sigopt\n",
      "from sigopt.functions import logistic, logistic_prime\n",
      "\n",
      "# define f_i\n",
      "fi = [(logistic, logistic_prime, 0)]\n",
      "# each f is identical, so we just repeat f_i 9 times\n",
      "n = 9\n",
      "fs = fi*n"
     ],
     "language": "python",
     "metadata": {},
     "outputs": [],
     "prompt_number": 1
    },
    {
     "cell_type": "markdown",
     "metadata": {},
     "source": [
      "We write the constraint $\\sum_i x_i \\leq 0$ as $Ax \\leq b$"
     ]
    },
    {
     "cell_type": "code",
     "collapsed": false,
     "input": [
      "A = numpy.ones((1,n))\n",
      "b = numpy.ones((1,1))"
     ],
     "language": "python",
     "metadata": {},
     "outputs": [],
     "prompt_number": 2
    },
    {
     "cell_type": "markdown",
     "metadata": {},
     "source": [
      "and the box constraints $l \\leq x \\leq u$ are"
     ]
    },
    {
     "cell_type": "code",
     "collapsed": false,
     "input": [
      "l = [-5]*n\n",
      "u = [5]*n"
     ],
     "language": "python",
     "metadata": {},
     "outputs": [],
     "prompt_number": 3
    },
    {
     "cell_type": "markdown",
     "metadata": {},
     "source": [
      "(these can be expressed either using numpy matrices, numpy arrays, or python lists --- actually, anything iterable will do).\n",
      "\n",
      "Now we're ready to formulate the problem "
     ]
    },
    {
     "cell_type": "code",
     "collapsed": false,
     "input": [
      "from sigopt import Problem\n",
      "p = Problem(l,u,fs,A=A,b=b,name='example1',tol=.1,sub_tol=.01)"
     ],
     "language": "python",
     "metadata": {},
     "outputs": [],
     "prompt_number": 4
    },
    {
     "cell_type": "markdown",
     "metadata": {},
     "source": [
      "The parameter `tol` sets the accuracy to which we need to solve the problem,\n",
      "and `sub_tol` controls the quality of the upper approximation to the functions $f_i$. \n",
      "Finally we solve!"
     ]
    },
    {
     "cell_type": "code",
     "collapsed": false,
     "input": [
      "p.solve(maxiters = 100)"
     ],
     "language": "python",
     "metadata": {},
     "outputs": [],
     "prompt_number": 5
    },
    {
     "cell_type": "markdown",
     "metadata": {},
     "source": [
      "(It's a good idea to specify a maximum number of iterations, since sigmoidal programs can me NP-hard.)\n",
      "\n",
      "We can examine the bounds on the optimal value, and the point $x$ achieving those bounds."
     ]
    },
    {
     "cell_type": "code",
     "collapsed": false,
     "input": [
      "print 'bounds',p.bounds\n",
      "print 'solution',p.x"
     ],
     "language": "python",
     "metadata": {},
     "outputs": [
      {
       "output_type": "stream",
       "stream": "stdout",
       "text": [
        "bounds [(5.514779744166213, 5.820557154787409), (5.514779744166213, 5.823791589918229), (5.520849002950583, 5.828114180032125), (5.546101925223407, 5.83318656497994), (5.601172194820388, 5.838282831707601), (5.6870586416451, 5.842525542312434), (5.770608770092042, 5.846244704731432)]\n",
        "solution [0.8001359691991636, 1.5064185015401645, 1.5438259874988653, 1.645357260519695, 1.7503615765704392, 1.8404877155833232, 1.9134129890883498, -5.0, -5.0]\n"
       ]
      }
     ],
     "prompt_number": 6
    },
    {
     "cell_type": "markdown",
     "metadata": {},
     "source": [
      "Of course, it's nicer to see what's going on in a picture. \n",
      "We can plot the best solution we've found so far using the plotting library."
     ]
    },
    {
     "cell_type": "code",
     "collapsed": false,
     "input": [
      "from sigopt.plot import *\n",
      "f = plot_best_node(p)\n",
      "f.show()"
     ],
     "language": "python",
     "metadata": {},
     "outputs": [
      {
       "output_type": "stream",
       "stream": "stdout",
       "text": [
        "Saving figure in example1_best_node.eps\n"
       ]
      },
      {
       "output_type": "stream",
       "stream": "stderr",
       "text": [
        "/Users/Madeleine/Applications/anaconda/lib/python2.7/site-packages/matplotlib/figure.py:361: UserWarning: matplotlib is currently using a non-GUI backend, so cannot show the figure\n",
        "  \"matplotlib is currently using a non-GUI backend, \"\n"
       ]
      },
      {
       "output_type": "display_data",
       "png": "[encoded data removed]"
      }
     ],
     "prompt_number": 7
    },
    {
     "cell_type": "markdown",
     "metadata": {},
     "source": [
      "And if we'd like to see how quickly the algorithm converged, there's a convenient convergence plot."
     ]
    },
    {
     "cell_type": "code",
     "collapsed": false,
     "input": [
      "f = plot_convergence(p)\n",
      "f.show()"
     ],
     "language": "python",
     "metadata": {},
     "outputs": [
      {
       "output_type": "stream",
       "stream": "stdout",
       "text": [
        "Saving plot of history in example1_convergence.eps\n"
       ]
      },
      {
       "output_type": "display_data",
       "png": "[encoded data removed]"
      }
     ],
     "prompt_number": 8
    },
    {
     "cell_type": "markdown",
     "metadata": {},
     "source": [
      "Function definitions, equality and inequality constraints\n",
      "--------------------------------------------------------------------\n",
      "\n",
      "We can also define our own functions using the full power of python. For example,"
     ]
    },
    {
     "cell_type": "code",
     "collapsed": false,
     "input": [
      "import math\n",
      "\n",
      "# my crazy sigmoidal function\n",
      "def crazy_sigmoid(x,param):\n",
      "    if x > param:\n",
      "        return -math.pow(x - param,2)\n",
      "    else:\n",
      "        return math.pow(x - param,2)\n",
      "    \n",
      "def crazy_sigmoid_prime(x,param):\n",
      "    if x > param:\n",
      "        return -2*(x - param)\n",
      "    else:\n",
      "        return 2*(x - param)\n",
      "\n",
      "n = 9\n",
      "crazy_fs = [(lambda x, p=p: crazy_sigmoid(x,p),\n",
      "             lambda x, p=p: crazy_sigmoid_prime(x,p),\n",
      "             p) for p in range(n)]"
     ],
     "language": "python",
     "metadata": {},
     "outputs": [],
     "prompt_number": 9
    },
    {
     "cell_type": "markdown",
     "metadata": {},
     "source": [
      "Let's add a couple of equality and inequality constraints, and solve!"
     ]
    },
    {
     "cell_type": "code",
     "collapsed": false,
     "input": [
      "k,m = 1,2\n",
      "# inequality constraints Ax <= b\n",
      "A = numpy.random.normal(0,1,(m,n))\n",
      "b = numpy.random.uniform(0,2,m)-1\n",
      "# equality constraints Cx == d\n",
      "C = numpy.random.normal(0,1,(k,n))\n",
      "d = numpy.random.uniform(0,2,k)-1\n",
      "# box constraints\n",
      "l = [-10]*n\n",
      "u = [10]*n\n",
      "\n",
      "p = Problem(l,u,crazy_fs,A=A,b=b,C=C,d=d,name='example2',tol=.1,sub_tol=.01)\n",
      "p.solve(maxiters=20)\n",
      "f = plot_convergence(p)\n",
      "f.show()"
     ],
     "language": "python",
     "metadata": {},
     "outputs": [
      {
       "output_type": "stream",
       "stream": "stdout",
       "text": [
        "Saving plot of history in example2_convergence.eps\n"
       ]
      },
      {
       "output_type": "display_data",
       "png": "[encoded data removed]"
      }
     ],
     "prompt_number": 10
    },
    {
     "cell_type": "markdown",
     "metadata": {},
     "source": [
      "It looks like we've converged, so we'll take a look at the solution."
     ]
    },
    {
     "cell_type": "code",
     "collapsed": false,
     "input": [
      "f = plot_best_node(p)\n",
      "f.show()"
     ],
     "language": "python",
     "metadata": {},
     "outputs": [
      {
       "output_type": "stream",
       "stream": "stdout",
       "text": [
        "Saving figure in example2_best_node.eps\n"
       ]
      },
      {
       "output_type": "display_data",
       "png": "[encoded data removed]"
      }
     ],
     "prompt_number": 11
    },
    {
     "cell_type": "heading",
     "level": 2,
     "metadata": {},
     "source": [
      "More information"
     ]
    },
    {
     "cell_type": "markdown",
     "metadata": {},
     "source": [
      "For more examples of how to use SIGOPT, consult the examples\n",
      "in `sigopt.examples`.\n",
      "All functions are documented in their docstrings as well.\n",
      "\n",
      "To understand how SIGOPT works, and to learn more about the theory of\n",
      "sigmoidal programming, you can take a look at \n",
      "[this paper](www.stanford.edu/~udell/doc/max_sum_sigmoids.pdf)."
     ]
    }
   ],
   "metadata": {}
  }
 ]
}